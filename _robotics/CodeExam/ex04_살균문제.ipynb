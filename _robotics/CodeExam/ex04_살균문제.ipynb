{
 "cells": [
  {
   "cell_type": "markdown",
   "metadata": {},
   "source": [
    "# 살균 문제  \n",
    "UV LED 를 이용하여 살균케어를 구현한다.  \n",
    "일정시간마다 UV LED 를 필터에 조사하여 살균을 하는데, \n",
    " - 이때 필터의 크기는 NxN 모눈종이 형태이며,  \n",
    " - 살균 범위는 사각형, 둘레의 길이가 L인 형태로 주어진다. \n",
    " - 살균대상은 M개의 위치좌표로 주어지며, \n",
    " - 가장 많은 대상을 살균하는 것이 목표이다. \n",
    "\n",
    "## 입력예시\n",
    " - N = 6\n",
    " - L = 10\n",
    " - M = 6, (2,2),(4,6),(5,2),(6,4),(2,4),(3,3)\n",
    "\n",
    "\n"
   ]
  },
  {
   "cell_type": "markdown",
   "metadata": {},
   "source": [
    "```python\n",
    "# -*- coding: utf-8 -*-\n",
    "# UTF-8 encoding when using korean\n",
    "import sys\n",
    "\n",
    "\n",
    "def input_data():\n",
    "    readl = sys.stdin.readline\n",
    "    N, L, M = map(int, readl().split())\n",
    "    list_pos = [tuple(map(int, readl().split())) for _ in range(M)]\n",
    "    return N, L, M, list_pos\n",
    "\n",
    "\n",
    "def count_in_net(sr, sc, er, ec):\n",
    "    return len(\n",
    "        tuple(filter(lambda pos: (sr <= pos[0] <= er and sc <= pos[1] <= ec), list_pos))\n",
    "    )\n",
    "\n",
    "\n",
    "def get_solution():\n",
    "    sol = 0\n",
    "    for h in range(1, L // 2):\n",
    "        w = (L // 2) - h\n",
    "        for pos in list_pos:\n",
    "            for offset in range(w, -1, -1):\n",
    "                cnt = count_in_net(\n",
    "                    pos[0], pos[1] - offset, pos[0] + h, pos[1] - offset + w\n",
    "                )\n",
    "                sol = max(sol, cnt)\n",
    "    return sol\n",
    "\n",
    "\n",
    "sol = -1\n",
    "# 입력받는 부분\n",
    "N, L, M, list_pos = input_data()\n",
    "\n",
    "# 여기서부터 작성\n",
    "sol = get_solution()\n",
    "\n",
    "# 출력하는 부분\n",
    "print(sol)\n",
    "```"
   ]
  },
  {
   "cell_type": "markdown",
   "metadata": {},
   "source": []
  }
 ],
 "metadata": {
  "language_info": {
   "name": "python"
  }
 },
 "nbformat": 4,
 "nbformat_minor": 2
}
