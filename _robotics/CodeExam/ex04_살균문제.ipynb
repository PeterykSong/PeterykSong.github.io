{
 "cells": [
  {
   "cell_type": "markdown",
   "metadata": {},
   "source": [
    "# 살균 문제  \n",
    "UV LED 를 이용하여 살균케어를 구현한다.  \n",
    "일정시간마다 UV LED 를 필터에 조사하여 살균을 하는데, \n",
    " - 이때 필터의 크기는 NxN 모눈종이 형태이며,  \n",
    " - 살균 범위는 사각형, 둘레의 길이가 L인 형태로 주어진다. \n",
    " - 살균대상은 M개의 위치좌표로 주어지며, \n",
    " - 가장 많은 대상을 살균하는 것이 목표이다. \n",
    "\n",
    "## 입력예시\n",
    " - N = 6\n",
    " - L = 10\n",
    " - M = 6, (2,2),(4,6),(5,2),(6,4),(2,4),(3,3)\n",
    "\n",
    "\n"
   ]
  },
  {
   "cell_type": "markdown",
   "metadata": {},
   "source": [
    "```python\n",
    "# -*- coding: utf-8 -*-\n",
    "# UTF-8 encoding when using korean\n",
    "import sys\n",
    "\n",
    "\n",
    "def input_data():\n",
    "    readl = sys.stdin.readline\n",
    "    N, L, M = map(int, readl().split())\n",
    "    list_pos = [tuple(map(int, readl().split())) for _ in range(M)]\n",
    "    return N, L, M, list_pos\n",
    "\n",
    "\n",
    "def count_in_net(sr, sc, er, ec):\n",
    "    return len(\n",
    "        tuple(filter(lambda pos: (sr <= pos[0] <= er and sc <= pos[1] <= ec), list_pos))\n",
    "    )\n",
    "\n",
    "\n",
    "def get_solution():\n",
    "    sol = 0\n",
    "    for h in range(1, L // 2):\n",
    "        w = (L // 2) - h\n",
    "        for pos in list_pos:\n",
    "            for offset in range(w, -1, -1):\n",
    "                cnt = count_in_net(\n",
    "                    pos[0], pos[1] - offset, pos[0] + h, pos[1] - offset + w\n",
    "                )\n",
    "                sol = max(sol, cnt)\n",
    "    return sol\n",
    "\n",
    "\n",
    "sol = -1\n",
    "# 입력받는 부분\n",
    "N, L, M, list_pos = input_data()\n",
    "\n",
    "# 여기서부터 작성\n",
    "sol = get_solution()\n",
    "\n",
    "# 출력하는 부분\n",
    "print(sol)\n",
    "```"
   ]
  },
  {
   "cell_type": "markdown",
   "metadata": {},
   "source": []
  },
  {
   "cell_type": "code",
   "execution_count": null,
   "metadata": {},
   "outputs": [
    {
     "name": "stdout",
     "output_type": "stream",
     "text": [
      "x is 2,y is 2\n",
      "offset is 1, width 1, Height 5\n"
     ]
    },
    {
     "ename": "UnboundLocalError",
     "evalue": "cannot access local variable 'nMax' where it is not associated with a value",
     "output_type": "error",
     "traceback": [
      "\u001b[31m---------------------------------------------------------------------------\u001b[39m",
      "\u001b[31mUnboundLocalError\u001b[39m                         Traceback (most recent call last)",
      "\u001b[36mCell\u001b[39m\u001b[36m \u001b[39m\u001b[32mIn[12]\u001b[39m\u001b[32m, line 38\u001b[39m\n\u001b[32m     31\u001b[39m                 nMax = \u001b[38;5;28mmax\u001b[39m(count,nMax)\n\u001b[32m     32\u001b[39m                 \u001b[38;5;28mprint\u001b[39m(\u001b[33mf\u001b[39m\u001b[33m'\u001b[39m\u001b[33mcount is \u001b[39m\u001b[38;5;132;01m{\u001b[39;00mcount\u001b[38;5;132;01m}\u001b[39;00m\u001b[33m, max is \u001b[39m\u001b[38;5;132;01m{\u001b[39;00mnMax\u001b[38;5;132;01m}\u001b[39;00m\u001b[33m'\u001b[39m)\n\u001b[32m---> \u001b[39m\u001b[32m38\u001b[39m \u001b[43msolution\u001b[49m\u001b[43m(\u001b[49m\u001b[43mN\u001b[49m\u001b[43m,\u001b[49m\u001b[43mL\u001b[49m\u001b[43m,\u001b[49m\u001b[43mM\u001b[49m\u001b[43m)\u001b[49m\n",
      "\u001b[36mCell\u001b[39m\u001b[36m \u001b[39m\u001b[32mIn[12]\u001b[39m\u001b[32m, line 31\u001b[39m, in \u001b[36msolution\u001b[39m\u001b[34m(N, L, M)\u001b[39m\n\u001b[32m     29\u001b[39m \u001b[38;5;28mprint\u001b[39m(\u001b[33mf\u001b[39m\u001b[33m\"\u001b[39m\u001b[33moffset is \u001b[39m\u001b[38;5;132;01m{\u001b[39;00mnOffset\u001b[38;5;132;01m}\u001b[39;00m\u001b[33m, width \u001b[39m\u001b[38;5;132;01m{\u001b[39;00mnScreenWidth\u001b[38;5;132;01m}\u001b[39;00m\u001b[33m, Height \u001b[39m\u001b[38;5;132;01m{\u001b[39;00mnScreenHeight\u001b[38;5;132;01m}\u001b[39;00m\u001b[33m\"\u001b[39m)\n\u001b[32m     30\u001b[39m count = Count_in_Net(x,y-nOffset,x+nScreenWidth,y+nScreenHeight-nOffset,M)\n\u001b[32m---> \u001b[39m\u001b[32m31\u001b[39m nMax = \u001b[38;5;28mmax\u001b[39m(count,\u001b[43mnMax\u001b[49m)\n\u001b[32m     32\u001b[39m \u001b[38;5;28mprint\u001b[39m(\u001b[33mf\u001b[39m\u001b[33m'\u001b[39m\u001b[33mcount is \u001b[39m\u001b[38;5;132;01m{\u001b[39;00mcount\u001b[38;5;132;01m}\u001b[39;00m\u001b[33m, max is \u001b[39m\u001b[38;5;132;01m{\u001b[39;00mnMax\u001b[38;5;132;01m}\u001b[39;00m\u001b[33m'\u001b[39m)\n",
      "\u001b[31mUnboundLocalError\u001b[39m: cannot access local variable 'nMax' where it is not associated with a value"
     ]
    }
   ],
   "source": [
    "#input \n",
    "N = 6\n",
    "L = 12\n",
    "M = [(2,2),(4,6),(5,2),(6,4),(2,4),(3,3)]\n",
    "\n",
    "#process\n",
    "\n",
    "#시작점과 끝점을 주워줄때, 주워진 점들 중에서 count가 되는 함수를 먼저 작성하자. \n",
    "def Count_in_Net(nStartPointRow,nStartPointCol,nEndPointRow,nEndPoinCol,tListPos):\n",
    "    count = 0\n",
    "    for x,y in tListPos:\n",
    "        if nStartPointRow <= x <= nEndPointRow and nStartPointCol <= y <= nEndPoinCol:\n",
    "            count+=1\n",
    "    \n",
    "    return count\n",
    "\n",
    "def solution(N,L,M):\n",
    "    #우선 검색범위를 알아보자. \n",
    "    #두 변의 합은 L/2다. 따라서 가로 크기가 i 가 된다면 높이는 L/2 - i 가 되어야 한다. i는 0이 될 수 없으므로, 가변 범위는 1~L/2-1 까지일것이다. \n",
    "    nMax = 0\n",
    "    for i in range(1,L//2):\n",
    "        nScreenWidth = i\n",
    "        nScreenHeight = L//2 - i\n",
    "        #해당 스크린 크기만큼 각 포인트들을 스캔할 예정이다. \n",
    "        #우선 모든 포지션 포인트 M에 대하여, \n",
    "        for x, y in M:\n",
    "            print(f\"x is {x},y is {y}\")\n",
    "            #포인트에서 해당하는 점을 \n",
    "            for nOffset in range(nScreenWidth,-1,-1):\n",
    "                print(f\"offset is {nOffset}, width {nScreenWidth}, Height {nScreenHeight}\")\n",
    "                count = Count_in_Net(x,y-nOffset,x+nScreenWidth,y+nScreenHeight-nOffset,M)\n",
    "                nMax = max(count,nMax)\n",
    "                print(f'count is {count}, max is {nMax}')         \n",
    "            \n",
    "   \n",
    "    \n",
    "    \n",
    "solution(N,L,M)\n",
    "    "
   ]
  },
  {
   "cell_type": "code",
   "execution_count": null,
   "metadata": {},
   "outputs": [],
   "source": []
  }
 ],
 "metadata": {
  "kernelspec": {
   "display_name": "Python 3",
   "language": "python",
   "name": "python3"
  },
  "language_info": {
   "codemirror_mode": {
    "name": "ipython",
    "version": 3
   },
   "file_extension": ".py",
   "mimetype": "text/x-python",
   "name": "python",
   "nbconvert_exporter": "python",
   "pygments_lexer": "ipython3",
   "version": "3.13.2"
  }
 },
 "nbformat": 4,
 "nbformat_minor": 2
}
