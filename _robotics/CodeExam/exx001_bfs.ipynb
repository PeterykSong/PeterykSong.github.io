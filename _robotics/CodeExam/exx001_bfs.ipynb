{
 "cells": [
  {
   "cell_type": "code",
   "execution_count": null,
   "id": "e2d71c8a",
   "metadata": {},
   "outputs": [],
   "source": [
    "from collections import deque   #필수\n",
    "\n",
    "def bfs(sr,sc,color,visited):\n",
    "\tq = deque()  #필수\n",
    "\tq.append((sr,sc)) #필수\n",
    "\tvisited[sr][sc] = True   #필수 (Criteria)\n",
    "\tcnt = 1 \n",
    "\t\n",
    "\tdirection = [(-1,0),(1,0),(0,-1),(0,1)] #필수\n",
    "\twhile q:  #필수\n",
    "\t\tr, c = q.popleft()  #필수\n",
    "\t\tfor dr, dc in direction: #필수\n",
    "\t\t\tnr,nc = r+dr, c+dc #필수\n",
    "\t\t\tif 0 <= nc < N  and 0<= nr < N: #권장\n",
    "\t\t\t\tif (not visited[nr][nc]) and (map_area[nr][nc] == color): #필수\n",
    "\t\t\t\t\tvisited[nr][nc] = True\n",
    "\t\t\t\t\tq.append((nr,nc)) #필수\n",
    "\t\t\t\t\tcnt += 1\n",
    "\t\n",
    "\treturn cnt\n"
   ]
  },
  {
   "cell_type": "markdown",
   "id": "1199d219",
   "metadata": {},
   "source": []
  }
 ],
 "metadata": {
  "language_info": {
   "name": "python"
  }
 },
 "nbformat": 4,
 "nbformat_minor": 5
}
