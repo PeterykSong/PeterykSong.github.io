{
 "cells": [
  {
   "cell_type": "code",
   "execution_count": null,
   "id": "e2d71c8a",
   "metadata": {},
   "outputs": [],
   "source": [
    "from collections import deque \n",
    "\n",
    "def bfs(sr,sc,color,visited):\n",
    "\tq = deque()\n",
    "\tq.append((sr,sc))\n",
    "\tvisited[sr][sc] = True\n",
    "\tcnt = 1\n",
    "\t\n",
    "\tdirection = [(-1,0),(1,0),(0,-1),(0,1)]\n",
    "\twhile q:\n",
    "\t\tr, c = q.popleft()\n",
    "\t\tfor dr, dc in direction:\n",
    "\t\t\tnr,nc = r+dr, c+dc\n",
    "\t\t\tif 0 <= nc < N  and 0<= nr < N:\n",
    "\t\t\t\tif (not visited[nr][nc]) and (map_area[nr][nc] == color):\n",
    "\t\t\t\t\tvisited[nr][nc] = True\n",
    "\t\t\t\t\tq.append((nr,nc))\n",
    "\t\t\t\t\tcnt += 1\n",
    "\t\n",
    "\treturn cnt\n"
   ]
  }
 ],
 "metadata": {
  "language_info": {
   "name": "python"
  }
 },
 "nbformat": 4,
 "nbformat_minor": 5
}
