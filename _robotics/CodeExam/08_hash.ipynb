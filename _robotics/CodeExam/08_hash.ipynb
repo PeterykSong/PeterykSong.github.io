{
 "cells": [
  {
   "cell_type": "markdown",
   "id": "381a8ead",
   "metadata": {},
   "source": [
    "# 해쉬\n",
    "\n",
    "파이썬은 Dictionary가 해쉬네."
   ]
  },
  {
   "cell_type": "markdown",
   "id": "e8b9eb31",
   "metadata": {},
   "source": [
    "양의 정수로 이루어진 리스트 arr 과 정수 target이 주어졌을때, 이중에서 합이 target인 수가 두 수가 arr에 있으면 True, 없으면 False 를 출력하라. \n",
    "\n",
    "arr : [1,2,3,4,8], target : 6 --> true\n",
    "arr : [2,3,5,9], target : 10 --> False\n"
   ]
  },
  {
   "cell_type": "code",
   "execution_count": 9,
   "id": "2b75cca7",
   "metadata": {},
   "outputs": [
    {
     "name": "stdout",
     "output_type": "stream",
     "text": [
      "[0, 0, 0, 0, 0, 0, 0]\n",
      "[1, 2, 3, 4, 8]\n",
      "[0, 1, 1, 1, 1, 0, 0]\n"
     ]
    },
    {
     "data": {
      "text/plain": [
       "True"
      ]
     },
     "execution_count": 9,
     "metadata": {},
     "output_type": "execute_result"
    }
   ],
   "source": [
    "# input \n",
    "arr = [1,2,3,4,8]\n",
    "target = 6\n",
    "\n",
    "# process\n",
    "def solution(arr,target):\n",
    "    hash = [0]*(target+1)  # 해시테이블의 생성 및 초기화\n",
    "    print(hash)\n",
    "    print(arr)\n",
    "    # arr의 각 원소를 key로 하여 해시테이블을 만듬. \n",
    "    for num in arr:\n",
    "        if num <=target :\n",
    "            hash[num] = 1\n",
    "    print(hash)\n",
    "    for num in arr:\n",
    "        #target 보다 큰 수는 답이 될 수 없다. \n",
    "        if num >= target:\n",
    "            continue\n",
    "\n",
    "        #arr에 중복되는 원소는 존재하지 않음. \n",
    "        if ((target-num) == num ):\n",
    "            continue\n",
    "\n",
    "        if (hash[target - num]):\n",
    "            return True\n",
    "    \n",
    "    return False\n",
    "\n",
    "solution(arr,target)"
   ]
  },
  {
   "cell_type": "markdown",
   "id": "a958692e",
   "metadata": {},
   "source": [
    "# 해싱을 이용한 문자열 검색 만들기\n",
    "문자열 리스트 string_list와 쿼리 리스트 query_list 가 있을때, 각 쿼리 리스트에 있는 문자열이 string_list의 문자열에 ㅇㅆ는지 확인하고자 한다.   \n",
    "문자열이 있으면 True, 없으면 False를 리스트형태로 반환하라. \n",
    "\n",
    "string_list : [\"apple\",\"banana\",\"cherry\"]  \n",
    "query_list : [\"banana\",\"kiwi\",\"melon\",\"apple\"]"
   ]
  },
  {
   "cell_type": "code",
   "execution_count": 1,
   "id": "3ed1b740",
   "metadata": {},
   "outputs": [
    {
     "name": "stdout",
     "output_type": "stream",
     "text": [
      "[True, False, False, True]\n"
     ]
    }
   ],
   "source": [
    "#input\n",
    "string_list = [\"apple\",\"banana\",\"cherry\"]  \n",
    "query_list = [\"banana\",\"kiwi\",\"melon\",\"apple\"]\n",
    "\n",
    "def polynominal_hash(str):\n",
    "    p = 31 #소수\n",
    "    m = 1_000_000_007 #버켓크기\n",
    "    hash_value = 0\n",
    "    for char in str:\n",
    "        hash_value = (hash_value*p+ord(char))%m\n",
    "    return hash_value\n",
    "\n",
    "def solution(string_list,query_list):\n",
    "    hash_list = [polynominal_hash(str) for str in string_list]\n",
    "\n",
    "    result = []\n",
    "    for query in query_list:\n",
    "        query_hash = polynominal_hash(query)\n",
    "        if query_hash in hash_list:\n",
    "            result.append(True)\n",
    "        else:\n",
    "            result.append(False)\n",
    "    return result\n",
    "\n",
    "print(solution(string_list,query_list))\n"
   ]
  },
  {
   "cell_type": "markdown",
   "id": "ba5f79de",
   "metadata": {},
   "source": [
    "방금 그문제를 Dict으로풀어보자. 될것 같은데. "
   ]
  },
  {
   "cell_type": "code",
   "execution_count": 10,
   "id": "45ba5734",
   "metadata": {},
   "outputs": [
    {
     "name": "stdout",
     "output_type": "stream",
     "text": [
      "{'apple': 1, 'banana': 1, 'cherry': 1}\n",
      "[True, False, False, True]\n"
     ]
    }
   ],
   "source": [
    "def solution(string_list,query_list):\n",
    "    \n",
    "    strDic = {}\n",
    "    result = []\n",
    "    \n",
    "    for i in string_list:\n",
    "        strDic[i] = 1\n",
    "    \n",
    "    print(strDic)\n",
    "    for i in query_list:\n",
    "        if i in strDic:\n",
    "            result.append(True)\n",
    "        else:\n",
    "            result.append(False)\n",
    "    print(result)\n",
    "            \n",
    "    \n",
    "    \n",
    "solution(string_list,query_list)"
   ]
  },
  {
   "cell_type": "markdown",
   "id": "0315511b",
   "metadata": {},
   "source": [
    "# 할인행사.  \n",
    "\n",
    "이상한 할인행사다. \n",
    " - XYZ마트는 가입하면 10일동안 회원 자격을 준다.  \n",
    " - 회원을 대상으로 매일 1가지 상품을 할인한다. \n",
    " - 원하는 제품과 수량을 살 수 있도록 적절한 회원 가입일자를 찾으려 한다. \n",
    " - 등록 가능한 날짜의 수를 찾으라. \n",
    "\n",
    "## 입력 예시   \n",
    "\n",
    " want : [\"banana\",\"apple\",\"rice\",\"pork\",\"pot\"]   \n",
    " number : [3,2,2,2,1]  \n",
    " discount : [\"chicken\",\"apple\",\",\"apple\",\"banana\",\"rice\",\"apple\",\"pork\",\"banana\",\"pork\",\"rice\",\"pot\",\"banana\",\"apple\",\"banana\"]  \n",
    " result : 3\n",
    " "
   ]
  },
  {
   "cell_type": "markdown",
   "id": "933eae27",
   "metadata": {},
   "source": []
  },
  {
   "cell_type": "code",
   "execution_count": 40,
   "id": "f08e3afe",
   "metadata": {},
   "outputs": [
    {
     "name": "stdout",
     "output_type": "stream",
     "text": [
      "want is {'banana': 3, 'apple': 2, 'rice': 2, 'pork': 2, 'pot': 1}\n",
      "basket is {'apple': 3, 'banana': 2, 'rice': 2, 'pork': 2}\n",
      "0 day and result 0\n",
      "want is {'banana': 3, 'apple': 2, 'rice': 2, 'pork': 2, 'pot': 1}\n",
      "basket is {'apple': 3, 'banana': 2, 'rice': 2, 'pork': 2, 'pot': 1}\n",
      "1 day and result 0\n",
      "want is {'banana': 3, 'apple': 2, 'rice': 2, 'pork': 2, 'pot': 1}\n",
      "basket is {'apple': 2, 'banana': 3, 'rice': 2, 'pork': 2, 'pot': 1}\n",
      "2 day and result 0\n",
      "possible\n",
      "want is {'banana': 3, 'apple': 2, 'rice': 2, 'pork': 2, 'pot': 1}\n",
      "basket is {'banana': 3, 'rice': 2, 'apple': 2, 'pork': 2, 'pot': 1}\n",
      "3 day and result 1\n",
      "possible\n",
      "want is {'banana': 3, 'apple': 2, 'rice': 2, 'pork': 2, 'pot': 1}\n",
      "basket is {'rice': 2, 'apple': 2, 'pork': 2, 'banana': 3, 'pot': 1}\n",
      "4 day and result 2\n",
      "possible\n"
     ]
    },
    {
     "data": {
      "text/plain": [
       "(3, [2, 3, 4])"
      ]
     },
     "execution_count": 40,
     "metadata": {},
     "output_type": "execute_result"
    }
   ],
   "source": [
    "# input \n",
    "\n",
    "strWantList = [\"banana\",\"apple\",\"rice\",\"pork\",\"pot\"]   \n",
    "nNumberList = [3,2,2,2,1]  \n",
    "strDiscountList = [\"chicken\",\"apple\",\"apple\",\"banana\",\"rice\",\n",
    "                   \"apple\",\"pork\",\"banana\",\"pork\",\"rice\",\"pot\",\n",
    "                   \"banana\",\"apple\",\"banana\"]  \n",
    "\n",
    "def solution(strWantList,nNumberList,strDiscountList):\n",
    "    \n",
    "    strWantDic = {}\n",
    "    result = 0\n",
    "    result_day = []\n",
    "    \n",
    "    for i in range(len(strWantList)):\n",
    "        strWantDic[strWantList[i]] = nNumberList[i]\n",
    "    \n",
    "    #전체 스윕 길이 지정    \n",
    "    for i in range(len(strDiscountList)-9): \n",
    "        #i번째 날짜부터 10일동안 받을 수 있는 할인품목 수량\n",
    "        strBasketDic = {}\n",
    "\n",
    "        for j in range(i,i+10):\n",
    "\n",
    "            if strDiscountList[j] in strWantDic:\n",
    "                strBasketDic[strDiscountList[j]] =strBasketDic.get(strDiscountList[j],0) +1\n",
    "        print(f'want is {strWantDic}')\n",
    "        print(f'basket is {strBasketDic}')\n",
    "        print(f'{i} day and result {result}')\n",
    "        \n",
    "        \n",
    "        if strWantDic == strBasketDic:\n",
    "            print('possible')\n",
    "            result +=1\n",
    "            result_day.append(i)\n",
    "            \n",
    "\n",
    "    return result, result_day \n",
    "\n",
    "solution(strWantList,nNumberList,strDiscountList)\n"
   ]
  },
  {
   "cell_type": "markdown",
   "id": "17589e3e",
   "metadata": {},
   "source": [
    "위의 코드는 만약 줄의 길이가 길어지면.... 딕셔너리가 초과하면 다르다고 나올것 같다. "
   ]
  },
  {
   "cell_type": "markdown",
   "id": "e8238421",
   "metadata": {},
   "source": [
    "# 베스트 앨범   \n",
    "\n",
    "스트리밍 사이트에서 장르별로 가장 많이 재생된 노래를 2개씩 모아 베스트앨범을 출시하려 한다.  \n",
    "노래는 고유번호로 구분하며, 노래 수록 기준은 다음과 같다. \n",
    "\n",
    "- 속한 노래가 많이 재생된 장르를 먼저 수록한다. \n",
    "- 장르 내에서 많이 재생된 노래를 먼저 수록한다. \n",
    "- 장르내에서 재생된 횟수가 같은 노래중에서 고유번호가 낮은 노래를 먼저 수록한다. \n",
    "- genres[i] 는 고유번호 i인 노래의 장르다. \n",
    "- plays[i]는 고유번호가 i인 노래가 재생된 횟수다. \n",
    "- 장르와 플레이의 길이는 같으며 1이상 1만이하다. \n",
    "- 장르에 속한 곡이 하나라면 하나만 선택한다. \n",
    "- 모든 장르는 재생된 횟수가 다르다. \n",
    "\n",
    "### 입출력 예시\n",
    "- genres = ['classic','pop','classic','classic','pop']\n",
    "- plays = [500,600,150,800,2500]\n",
    "- return = [4,1,3,0]"
   ]
  },
  {
   "cell_type": "markdown",
   "id": "b1644ed2",
   "metadata": {},
   "source": []
  },
  {
   "cell_type": "code",
   "execution_count": 47,
   "id": "1341b007",
   "metadata": {},
   "outputs": [
    {
     "name": "stdout",
     "output_type": "stream",
     "text": [
      "0,classic,500\n",
      "1,pop,600\n",
      "2,classic,150\n",
      "3,classic,800\n",
      "4,pop,2500\n"
     ]
    },
    {
     "data": {
      "text/plain": [
       "[4, 1, 3, 0]"
      ]
     },
     "execution_count": 47,
     "metadata": {},
     "output_type": "execute_result"
    }
   ],
   "source": [
    "#input \n",
    "strGenresList = ['classic','pop','classic','classic','pop']\n",
    "nPlaysList = [500,600,150,800,2500]\n",
    "\n",
    "#process\n",
    "\n",
    "def solution(strGenresList, nPlaysList):\n",
    "    answer = []\n",
    "    genres_dic = {}\n",
    "    play_dic = {}\n",
    "    \n",
    "    for i in range(len(strGenresList)):\n",
    "        genre = strGenresList[i]\n",
    "        play = nPlaysList[i]\n",
    "        if genre not in genres_dic:\n",
    "            genres_dic[genre] = []\n",
    "            play_dic[genre] = 0\n",
    "        genres_dic[genre].append((i,play))\n",
    "        play_dic[genre] += play\n",
    "        \n",
    "    sorted_genres = sorted(play_dic.items(),key=lambda x:x[1],reverse=True)\n",
    "    \n",
    "    for genre, _ in sorted_genres:\n",
    "        sortred_song = sorted(genres_dic[genre],key=lambda x: (-x[1],x[0]))\n",
    "        answer.extend([idx for idx, _ in sortred_song[:2]])\n",
    "    \n",
    "    return answer\n",
    "                            \n",
    "                            \n",
    "\n",
    "\n",
    "for i, (g,p) in enumerate(zip(strGenresList,nPlaysList)):\n",
    "    print(f'{i},{g},{p}')\n",
    "        \n",
    "solution(strGenresList,nPlaysList)\n"
   ]
  },
  {
   "cell_type": "code",
   "execution_count": 49,
   "id": "15b9ca0e",
   "metadata": {},
   "outputs": [
    {
     "name": "stdout",
     "output_type": "stream",
     "text": [
      "[(4, 2500), (1, 600)]\n",
      "[(3, 800), (0, 500)]\n"
     ]
    },
    {
     "data": {
      "text/plain": [
       "[4, 1, 3, 0]"
      ]
     },
     "execution_count": 49,
     "metadata": {},
     "output_type": "execute_result"
    }
   ],
   "source": [
    "from collections import defaultdict\n",
    "#input \n",
    "strGenresList = ['classic','pop','classic','classic','pop']\n",
    "nPlaysList = [500,600,150,800,2500]\n",
    "\n",
    "#process\n",
    "\n",
    "def solution(genres, plays):\n",
    "    # 장르별 총 재생수와 (고유번호, 재생수) 목록 만들기\n",
    "    total = defaultdict(int)\n",
    "    songs = defaultdict(list)\n",
    "    for i, (g, p) in enumerate(zip(genres, plays)):\n",
    "        total[g] += p\n",
    "        songs[g].append((i, p))\n",
    "\n",
    "    # 장르를 총 재생수 내림차순으로 정렬\n",
    "    ordered_genres = sorted(total, key=total.get, reverse=True)\n",
    "\n",
    "    # 각 장르에서 (재생수 내림차순, 고유번호 오름차순)으로 정렬한 뒤 상위 2개 추출\n",
    "    answer = []\n",
    "    for g in ordered_genres:\n",
    "        top2 = sorted(songs[g], key=lambda x: (-x[1], x[0]))[:2]\n",
    "        #sorted(song[g]를, 정렬기준(key) 값을 -x[1](음수인건 내림차순을 뜻한다) 으로 우선 정렬 후 x[0]로 정렬한다.)[의 상위 두개만 취한다. ]\n",
    "        print(top2)\n",
    "        answer.extend(i for i, _ in top2)\n",
    "    return answer\n",
    "\n",
    "solution(strGenresList,nPlaysList)\n"
   ]
  },
  {
   "cell_type": "markdown",
   "id": "866c15f3",
   "metadata": {},
   "source": [
    "아직까지 해시에 대해 딱 와닿는 뭔가는 잘 모르겠다. 특히 소팅 관련해선. \n",
    "\n",
    "# 오픈 채팅방. \n",
    "\n",
    "본래의 닉네임이 아닌 다른 사람 닉네임으로 채팅할 수 있다. \n",
    "\n",
    "누군가 입장하면  \n",
    "- \"[닉네임]님이 입장하셨습니다.\"  \n",
    "\n",
    "나갈때도 비슷하게 출력된다. 이걸 관리해보자. \n",
    "최종으로 보인느 메세지를 문자열 형태로 반환하는 solution을 작성하라\n",
    "\n",
    "### 입출력의 예  \n",
    "\n",
    " - record : [\"Enter uid1234 Muzi\",\"Enter uid4567 Prodo\",\"Leave uid1234\",\"Enter uid1234 Prodo\",\"Change uid4567 Ryan\" ]\n",
    " - result : [\"프로도님이 들어왔습니다\",\"Ryan님이 들어왔습니다.\" \"Prodo님이 나갔습니다\",\"Prodo님이 들어왔습니다\"]\n",
    "\n"
   ]
  },
  {
   "cell_type": "code",
   "execution_count": 2,
   "id": "7d0bdd31",
   "metadata": {},
   "outputs": [
    {
     "data": {
      "text/plain": [
       "['Prodo님이 들어왔습니다.', 'Ryan님이 들어왔습니다.', 'Prodo님이 나갔습니다.', 'Prodo님이 들어왔습니다.']"
      ]
     },
     "execution_count": 2,
     "metadata": {},
     "output_type": "execute_result"
    }
   ],
   "source": [
    "#input\n",
    "\n",
    "strRecordsList = [\"Enter uid1234 Muzi\",\"Enter uid4567 Prodo\",\"Leave uid1234\",\"Enter uid1234 Prodo\",\"Change uid4567 Ryan\" ]\n",
    "\n",
    "#process \n",
    "\n",
    "def solution(records):\n",
    "    name = {}        # uid -> latest nickname\n",
    "    events = []      # (uid, verb) where verb in {\"Enter\", \"Leave\"}\n",
    "\n",
    "    for line in records:\n",
    "        parts = line.split()\n",
    "        cmd, uid = parts[0], parts[1]\n",
    "        if cmd in (\"Enter\", \"Change\"):\n",
    "            nickname = parts[2]\n",
    "            name[uid] = nickname\n",
    "        if cmd in (\"Enter\", \"Leave\"):\n",
    "            events.append((uid, cmd))\n",
    "\n",
    "    out = []\n",
    "    for uid, cmd in events:\n",
    "        nick = name[uid]\n",
    "        if cmd == \"Enter\":\n",
    "            out.append(f\"{nick}님이 들어왔습니다.\")\n",
    "        else:  # Leave\n",
    "            out.append(f\"{nick}님이 나갔습니다.\")\n",
    "    return out\n",
    "\n",
    "solution(strRecordsList)\n",
    "\n"
   ]
  },
  {
   "cell_type": "code",
   "execution_count": null,
   "id": "4b542982",
   "metadata": {},
   "outputs": [],
   "source": []
  }
 ],
 "metadata": {
  "kernelspec": {
   "display_name": "Python 3",
   "language": "python",
   "name": "python3"
  },
  "language_info": {
   "codemirror_mode": {
    "name": "ipython",
    "version": 3
   },
   "file_extension": ".py",
   "mimetype": "text/x-python",
   "name": "python",
   "nbconvert_exporter": "python",
   "pygments_lexer": "ipython3",
   "version": "3.10.12"
  }
 },
 "nbformat": 4,
 "nbformat_minor": 5
}
