{
 "cells": [
  {
   "cell_type": "markdown",
   "id": "381a8ead",
   "metadata": {},
   "source": [
    "# 해쉬\n",
    "\n",
    "파이썬은 Dictionary가 해쉬네."
   ]
  },
  {
   "cell_type": "markdown",
   "id": "e8b9eb31",
   "metadata": {},
   "source": [
    "양의 정수로 이루어진 리스트 arr 과 정수 target이 주어졌을때, 이중에서 합이 target인 수가 두 수가 arr에 있으면 True, 없으면 False 를 출력하라. \n",
    "\n",
    "arr : [1,2,3,4,8], target : 6 --> true\n",
    "arr : [2,3,5,9], target : 10 --> False\n"
   ]
  },
  {
   "cell_type": "code",
   "execution_count": 9,
   "id": "2b75cca7",
   "metadata": {},
   "outputs": [
    {
     "name": "stdout",
     "output_type": "stream",
     "text": [
      "[0, 0, 0, 0, 0, 0, 0]\n",
      "[1, 2, 3, 4, 8]\n",
      "[0, 1, 1, 1, 1, 0, 0]\n"
     ]
    },
    {
     "data": {
      "text/plain": [
       "True"
      ]
     },
     "execution_count": 9,
     "metadata": {},
     "output_type": "execute_result"
    }
   ],
   "source": [
    "# input \n",
    "arr = [1,2,3,4,8]\n",
    "target = 6\n",
    "\n",
    "# process\n",
    "def solution(arr,target):\n",
    "    hash = [0]*(target+1)  # 해시테이블의 생성 및 초기화\n",
    "    print(hash)\n",
    "    print(arr)\n",
    "    # arr의 각 원소를 key로 하여 해시테이블을 만듬. \n",
    "    for num in arr:\n",
    "        if num <=target :\n",
    "            hash[num] = 1\n",
    "    print(hash)\n",
    "    for num in arr:\n",
    "        #target 보다 큰 수는 답이 될 수 없다. \n",
    "        if num >= target:\n",
    "            continue\n",
    "\n",
    "        #arr에 중복되는 원소는 존재하지 않음. \n",
    "        if ((target-num) == num ):\n",
    "            continue\n",
    "\n",
    "        if (hash[target - num]):\n",
    "            return True\n",
    "    \n",
    "    return False\n",
    "\n",
    "solution(arr,target)"
   ]
  },
  {
   "cell_type": "markdown",
   "id": "a958692e",
   "metadata": {},
   "source": [
    "# 해싱을 이용한 문자열 검색 만들기\n",
    "문자열 리스트 string_list와 쿼리 리스트 query_list 가 있을때, 각 쿼리 리스트에 있는 문자열이 string_list의 문자열에 ㅇㅆ는지 확인하고자 한다.   \n",
    "문자열이 있으면 True, 없으면 False를 리스트형태로 반환하라. \n",
    "\n",
    "string_list : [\"apple\",\"banana\",\"cherry\"]  \n",
    "query_list : [\"banana\",\"kiwi\",\"melon\",\"apple\"]"
   ]
  },
  {
   "cell_type": "code",
   "execution_count": null,
   "id": "3ed1b740",
   "metadata": {},
   "outputs": [
    {
     "name": "stdout",
     "output_type": "stream",
     "text": [
      "3007\n",
      "96689\n",
      "3000831\n",
      "93029109\n",
      "2883905510\n",
      "3038\n",
      "97185\n",
      "3016145\n",
      "93503502\n",
      "2898611972\n",
      "27856973705\n",
      "3069\n",
      "98363\n",
      "3052384\n",
      "94627438\n",
      "2933454112\n",
      "28937080789\n",
      "[93029210, 898612055, 933454219]\n",
      "3038\n",
      "97185\n",
      "3016145\n",
      "93503502\n",
      "2898611972\n",
      "27856973705\n",
      "898612055\n",
      "True\n",
      "3317\n",
      "106082\n",
      "3292231\n",
      "102062416\n",
      "3292336\n",
      "False\n",
      "3379\n",
      "107880\n",
      "3347628\n",
      "103779909\n",
      "3217180589\n",
      "103780019\n",
      "False\n",
      "3007\n",
      "96689\n",
      "3000831\n",
      "93029109\n",
      "2883905510\n",
      "93029210\n",
      "True\n",
      "[True, False, False, True]\n"
     ]
    }
   ],
   "source": [
    "#input\n",
    "string_list = [\"apple\",\"banana\",\"cherry\"]  \n",
    "query_list = [\"banana\",\"kiwi\",\"melon\",\"apple\"]\n",
    "\n",
    "def polynominal_hash(str):\n",
    "    p = 31 #소수\n",
    "    m = 1_000_000_007 #버켓크기\n",
    "    hash_value = 0\n",
    "    for char in str:\n",
    "        hash_value = (hash_value*p+ord(char))%m\n",
    "    return hash_value\n",
    "\n",
    "def solution(string_list,query_list):\n",
    "    hash_list = [polynominal_hash(str) for str in string_list]\n",
    "    print(hash_list)\n",
    "\n",
    "    result = []\n",
    "    for query in query_list:\n",
    "        query_hash = polynominal_hash(query)\n",
    "        print(query_hash)\n",
    "        if query_hash in hash_list:\n",
    "            print(True)\n",
    "            result.append(True)\n",
    "        else:\n",
    "            print(False)\n",
    "            result.append(False)\n",
    "    return result\n",
    "\n",
    "print(solution(string_list,query_list))\n"
   ]
  },
  {
   "cell_type": "code",
   "execution_count": null,
   "id": "ba5f79de",
   "metadata": {},
   "outputs": [],
   "source": []
  }
 ],
 "metadata": {
  "kernelspec": {
   "display_name": "Python 3",
   "language": "python",
   "name": "python3"
  },
  "language_info": {
   "codemirror_mode": {
    "name": "ipython",
    "version": 3
   },
   "file_extension": ".py",
   "mimetype": "text/x-python",
   "name": "python",
   "nbconvert_exporter": "python",
   "pygments_lexer": "ipython3",
   "version": "3.10.12"
  }
 },
 "nbformat": 4,
 "nbformat_minor": 5
}
