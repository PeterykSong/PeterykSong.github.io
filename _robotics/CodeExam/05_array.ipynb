{
 "cells": [
  {
   "cell_type": "markdown",
   "id": "e308d974",
   "metadata": {},
   "source": [
    "# 배열 정렬하기\n",
    "\n",
    "정수배열을 오름차순으로 반환하는 Solution() 함수를 작성하시요.\n",
    "\n",
    "## 제약 조건\n",
    "  정수배열의 길이는 2 이상 10^5 이하\n",
    "  정수배열의 각 데이터값은 -100,000~100,000 임\n",
    "  "
   ]
  },
  {
   "cell_type": "code",
   "execution_count": 1,
   "id": "d84dcb6f",
   "metadata": {},
   "outputs": [],
   "source": [
    "#input \n",
    "\n",
    "arr = [1,-5,2,4,3]"
   ]
  },
  {
   "cell_type": "code",
   "execution_count": 2,
   "id": "b91b41c4",
   "metadata": {},
   "outputs": [],
   "source": [
    "# process\n",
    "def solution(arr):\n",
    "    arr.sort()\n",
    "    return arr\n"
   ]
  },
  {
   "cell_type": "code",
   "execution_count": 3,
   "id": "8e0de183",
   "metadata": {},
   "outputs": [
    {
     "name": "stdout",
     "output_type": "stream",
     "text": [
      "[-5, 1, 2, 3, 4]\n"
     ]
    }
   ],
   "source": [
    "#output \n",
    "print(solution(arr))\n",
    "# --- IGNORE ---"
   ]
  },
  {
   "cell_type": "markdown",
   "id": "5ac8de94",
   "metadata": {},
   "source": [
    "# 배열 제어하기\n",
    "\n",
    "정수배열을 하나 받습니다. 배열의 중복값을 제거하고 배열데이터를 내림차순으로 정렬하는 solution() 을 구현하라\n",
    "\n",
    "## 제약조건\n",
    "    배열의 길이는 2이상 100,000이하\n",
    "    각 배열의 데이터값은 -100,000~100,000\n"
   ]
  },
  {
   "cell_type": "code",
   "execution_count": 5,
   "id": "70c8f8ca",
   "metadata": {},
   "outputs": [],
   "source": [
    "# input \n",
    "arr = [4,2,2,1,3,4]"
   ]
  },
  {
   "cell_type": "code",
   "execution_count": 6,
   "id": "0cbf7769",
   "metadata": {},
   "outputs": [
    {
     "name": "stdout",
     "output_type": "stream",
     "text": [
      "[4, 3, 2, 1]\n"
     ]
    }
   ],
   "source": [
    "# process \n",
    "def solution(arr):\n",
    "    arr = list(set(arr))  # 중복 제거\n",
    "    arr.sort(reverse=True)  # 내림차순 정렬\n",
    "    return arr\n",
    "#output\n",
    "print(solution(arr))\n"
   ]
  },
  {
   "cell_type": "markdown",
   "id": "bcdcfa78",
   "metadata": {},
   "source": []
  }
 ],
 "metadata": {
  "kernelspec": {
   "display_name": "Python 3",
   "language": "python",
   "name": "python3"
  },
  "language_info": {
   "codemirror_mode": {
    "name": "ipython",
    "version": 3
   },
   "file_extension": ".py",
   "mimetype": "text/x-python",
   "name": "python",
   "nbconvert_exporter": "python",
   "pygments_lexer": "ipython3",
   "version": "3.13.6"
  }
 },
 "nbformat": 4,
 "nbformat_minor": 5
}
