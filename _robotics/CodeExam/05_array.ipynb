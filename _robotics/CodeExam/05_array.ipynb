{
 "cells": [
  {
   "cell_type": "markdown",
   "id": "e308d974",
   "metadata": {},
   "source": [
    "# 배열 정렬하기\n",
    "\n",
    "정수배열을 오름차순으로 반환하는 Solution() 함수를 작성하시요.\n",
    "\n",
    "## 제약 조건\n",
    "  정수배열의 길이는 2 이상 10^5 이하\n",
    "  정수배열의 각 데이터값은 -100,000~100,000 임\n",
    "  "
   ]
  },
  {
   "cell_type": "code",
   "execution_count": 1,
   "id": "d84dcb6f",
   "metadata": {},
   "outputs": [],
   "source": [
    "#input \n",
    "\n",
    "arr = [1,-5,2,4,3]"
   ]
  },
  {
   "cell_type": "code",
   "execution_count": 2,
   "id": "b91b41c4",
   "metadata": {},
   "outputs": [],
   "source": [
    "# process\n",
    "def solution(arr):\n",
    "    arr.sort()\n",
    "    return arr\n"
   ]
  },
  {
   "cell_type": "code",
   "execution_count": 3,
   "id": "8e0de183",
   "metadata": {},
   "outputs": [
    {
     "name": "stdout",
     "output_type": "stream",
     "text": [
      "[-5, 1, 2, 3, 4]\n"
     ]
    }
   ],
   "source": [
    "#output \n",
    "print(solution(arr))\n",
    "# --- IGNORE ---"
   ]
  },
  {
   "cell_type": "markdown",
   "id": "5ac8de94",
   "metadata": {},
   "source": [
    "# 배열 제어하기\n",
    "\n",
    "정수배열을 하나 받습니다. 배열의 중복값을 제거하고 배열데이터를 내림차순으로 정렬하는 solution() 을 구현하라\n",
    "\n",
    "## 제약조건\n",
    "\n",
    "배열의 길이는 2이상 100,000이하  \n",
    "각 배열의 데이터값은 -100,000~100,000\n"
   ]
  },
  {
   "cell_type": "code",
   "execution_count": 5,
   "id": "70c8f8ca",
   "metadata": {},
   "outputs": [],
   "source": [
    "# input \n",
    "arr = [4,2,2,1,3,4]"
   ]
  },
  {
   "cell_type": "code",
   "execution_count": 6,
   "id": "0cbf7769",
   "metadata": {},
   "outputs": [
    {
     "name": "stdout",
     "output_type": "stream",
     "text": [
      "[4, 3, 2, 1]\n"
     ]
    }
   ],
   "source": [
    "# process \n",
    "def solution(arr):\n",
    "    arr = list(set(arr))  # 중복 제거\n",
    "    arr.sort(reverse=True)  # 내림차순 정렬\n",
    "    return arr\n",
    "#output\n",
    "print(solution(arr))\n"
   ]
  },
  {
   "cell_type": "markdown",
   "id": "86407b5e",
   "metadata": {},
   "source": [
    "만약 Bubble Sort를 해본다면?"
   ]
  },
  {
   "cell_type": "code",
   "execution_count": 9,
   "id": "f063c38a",
   "metadata": {},
   "outputs": [
    {
     "name": "stdout",
     "output_type": "stream",
     "text": [
      "[1, 2, 2, 3, 4, 4]\n"
     ]
    }
   ],
   "source": [
    "def Bubble_sort(arr):\n",
    "    n = len(arr)\n",
    "    for i in range(n) :        \n",
    "        for j in range (n-i-1):\n",
    "            if arr[j] > arr[j+1] :\n",
    "                temp = arr[j]\n",
    "                arr[j]=arr[j+1]\n",
    "                arr[j+1] = temp\n",
    "    return arr\n",
    "arr = [4,2,2,1,3,4]\n",
    "print(Bubble_sort(arr))"
   ]
  },
  {
   "cell_type": "markdown",
   "id": "671e725b",
   "metadata": {},
   "source": [
    "# 두개 뽑아서 더하기\n",
    "두개의 배열이 주어졌을때, \n",
    "각 배열에서 숫자 하나씩 뽑아 더했을 경우 나올수 있는 모든 경우의 수를 오름차순으로 나열하시오. \n",
    "\n",
    "## 제약조건\n",
    "\n",
    " number의 길이는 2이상 100이하\n",
    " number의 수는 0~100까지\n"
   ]
  },
  {
   "cell_type": "code",
   "execution_count": 18,
   "id": "2e54832f",
   "metadata": {},
   "outputs": [
    {
     "name": "stdout",
     "output_type": "stream",
     "text": [
      "[7, 2, 4, 9, 6, 1, 3, 8, 8, 3, 5, 10, 9, 4, 6, 11, 6, 1, 3, 8]\n",
      "{1, 2, 3, 4, 5, 6, 7, 8, 9, 10, 11}\n",
      "<class 'set'>\n",
      "<class 'list'>\n",
      "<class 'list'>\n"
     ]
    }
   ],
   "source": [
    "#input\n",
    "\n",
    "arr1 = [2,1,3,4,1]\n",
    "arr2 = [5,0,2,7]\n",
    "\n",
    "#process\n",
    "  ## process 1. Possible combination\n",
    "possible_sum = []\n",
    "for i in arr1:\n",
    "    for j in arr2:\n",
    "        possible_sum.append(i+j)\n",
    "         \n",
    "print(possible_sum)\n",
    "possible_sum_list = list(set(possible_sum))\n",
    "print(set(possible_sum))\n",
    "\n",
    "print(type(set(possible_sum)))\n",
    "print(type(possible_sum_list))\n",
    "print(type(possible_sum))"
   ]
  },
  {
   "cell_type": "markdown",
   "id": "bcdcfa78",
   "metadata": {},
   "source": [
    "만약 배열이 한개만 주워지고, 그 중 두 수를 뽑는다면?"
   ]
  },
  {
   "cell_type": "code",
   "execution_count": 25,
   "id": "545a4a0f",
   "metadata": {},
   "outputs": [
    {
     "name": "stdout",
     "output_type": "stream",
     "text": [
      "0\n",
      "1\n",
      "2\n",
      "3\n",
      "[5, 7, 12, 2, 7, 9]\n",
      "[2, 5, 7, 9, 12]\n",
      "<class 'list'>\n"
     ]
    }
   ],
   "source": [
    "# input\n",
    "arr = [5,0,2,7]\n",
    "\n",
    "#process\n",
    "possible_sum = [] \n",
    "for i in range(len(arr)):\n",
    "    print(i)\n",
    "    for j in range(i+1,len(arr)):\n",
    "        possible_sum.append(arr[i]+arr[j])\n",
    "    \n",
    "print(possible_sum)\n",
    "print(sorted(set(possible_sum)))\n",
    "print(type(sorted(possible_sum,reverse=True)))"
   ]
  },
  {
   "cell_type": "markdown",
   "id": "545b9677",
   "metadata": {},
   "source": [
    "# 정답 확인\n",
    "\n",
    " 3명의 정답을 확인하려 한다. \n",
    " 각각의 사람은 답지에 고유 패턴을 가지고 있다.  \n",
    " 1번 답안자 : 1,2,3,4,5,5  \n",
    " 2번 답안자 : 2,1,2,3,2,4,5  \n",
    " 3번 답안자 : 3,4,1,2,4,5,1,3  \n",
    "\n",
    " 이때 정답배열 answer 를 주어졌을때 각각의 점수를 구하고,   \n",
    " 가장 높은 점수를 낸 사람을 출력하라.   \n",
    " 만약 동점일 경우 오름차순으로 정렬하라.   "
   ]
  },
  {
   "cell_type": "code",
   "execution_count": 49,
   "id": "69b1189e",
   "metadata": {},
   "outputs": [
    {
     "name": "stdout",
     "output_type": "stream",
     "text": [
      "문제번호 0 - 1\n",
      "1 0 0\n",
      "문제번호 1 - 2\n",
      "2 1 0\n",
      "문제번호 2 - 3\n",
      "3 1 0\n",
      "문제번호 3 - 4\n",
      "4 1 0\n",
      "문제번호 4 - 5\n",
      "5 1 0\n",
      "문제번호 5 - 1\n",
      "5 1 0\n",
      "문제번호 6 - 2\n",
      "5 2 0\n",
      "문제번호 7 - 3\n",
      "5 2 1\n"
     ]
    }
   ],
   "source": [
    "#input \n",
    "\n",
    "pattern1 = [1,2,3,4,5,5]\n",
    "pattern2 = [2,2,2,2,2,2,2]\n",
    "pattern3 = [3,4,1,2,4,5,1,3]\n",
    "\n",
    "patterns = [pattern1,pattern2,pattern3]\n",
    "\n",
    "scores = [0] *3\n",
    "\n",
    "def  solution(answers,patt):\n",
    "    for i, answer in enumerate(answers):\n",
    "        print('문제번호' , i,'-', answer)\n",
    "        for j, pattern in enumerate(patt):            \n",
    "            if answer == pattern[i % len(pattern)]:\n",
    "                scores[j] += 1             \n",
    "            \n",
    "        print(scores[0],scores[1],scores[2])         \n",
    "                 \n",
    "            \n",
    "\n",
    "solution([1,2,3,4,5,1,2,3],patterns)"
   ]
  },
  {
   "cell_type": "code",
   "execution_count": null,
   "id": "7782a7ed",
   "metadata": {},
   "outputs": [],
   "source": []
  }
 ],
 "metadata": {
  "kernelspec": {
   "display_name": "Python 3",
   "language": "python",
   "name": "python3"
  },
  "language_info": {
   "codemirror_mode": {
    "name": "ipython",
    "version": 3
   },
   "file_extension": ".py",
   "mimetype": "text/x-python",
   "name": "python",
   "nbconvert_exporter": "python",
   "pygments_lexer": "ipython3",
   "version": "3.13.2"
  }
 },
 "nbformat": 4,
 "nbformat_minor": 5
}
