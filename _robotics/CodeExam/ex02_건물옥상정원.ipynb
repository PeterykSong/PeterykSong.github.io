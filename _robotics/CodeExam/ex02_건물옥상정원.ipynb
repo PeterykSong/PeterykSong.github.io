{
 "cells": [
  {
   "cell_type": "markdown",
   "metadata": {},
   "source": [
    "# 건물 옥상 정원 문제\n",
    "\n",
    "이게 도대체 뭘 푸는건지 문제만 보면 잘 안 와닿는다....\n",
    "일종의 삭제 내림차순 정렬같은 느낌이다....\n",
    "\n",
    "## 문제 설명\n",
    " 건물 옥상에 정원을 만드는게 유행이다. \n",
    " 각 건물 옥상에서 다른 건물 옥상 정원을 얼마나 볼 수 있는지 궁금하다. \n",
    "\n",
    " 건물은 일렬로 N가 정렬되어있다. N은 6이상 80000 이하이다. \n",
    " 각건물마도 높이 H 는 1 이상 1000,000,000 이다. \n",
    "\n",
    " ## 계산시 주의사항.   \n",
    "\n",
    "  - 동쪽을 바라보기 때문에, i 위치에 있는 건물에서는 i+1, i+2 .... 의 순으로만 건물을 볼 수 있으며, 이대 건물 높이보다 낮은 건물만 볼 수 있다. \n",
    "  - 건물 높이가 같거나 높은 건물이 있으면 그 건물을 포함하여 그 뒤는 볼 수가 없다. i == or >\n",
    "\n",
    "  아하. \n",
    "\n",
    "  ## 입력예시  \n",
    "   - H = [5,2,4,2,6,1]\n",
    "   - N = 6\n",
    "   - 총합을 구하라. result = 5\n",
    " \n"
   ]
  },
  {
   "cell_type": "code",
   "execution_count": 22,
   "metadata": {},
   "outputs": [
    {
     "name": "stdout",
     "output_type": "stream",
     "text": [
      "5\n"
     ]
    }
   ],
   "source": [
    "#input \n",
    "H = [5,2,4,2,6,1]\n",
    "N = 6\n",
    "\n",
    "#process\n",
    "def solution(H,N):\n",
    "    \n",
    "    # 탐색은 N번으로 끝나야 한다. \n",
    "    # N번째 건물을 볼 수 있는 이전 건물들이 몇개인지 알아야 한다. \n",
    "    # 그래서 stack을 활용하는게 적절하다. \n",
    "    #initialize\n",
    "    nStack = [] # i번째 건물을 볼 수 있는 이전 건물들의 모음\n",
    "    nResult_sum = 0 # 최종 출력형태    \n",
    "    \n",
    "    #리스트가 들어오면 리스트를 한번 쭉 훑어간다.\n",
    "    for i in H:\n",
    "        #리스트의 데이터를 불러 오고, 그 데이터가 이전의 건물보다 크지 않다면, \n",
    "            # Stack에 있는 건물들은 지금 건물을 볼 수 있으므로, 길이만큼 결과에 더하고, \n",
    "        # 그렇지 않다면,  자기값보다 큰 이전 stack 이 나올때까지 반복하면서 stack을 뽑아내고,  큰 값이 나오면 그제사 저장한다.     \n",
    "        \n",
    "        while nStack and (i > nStack[-1]):\n",
    "            nStack.pop()            \n",
    "        nResult_sum += len(nStack)\n",
    "        nStack.append(i)\n",
    "    return nResult_sum\n",
    "\n",
    "        \n",
    "print(solution(H,N))"
   ]
  },
  {
   "cell_type": "code",
   "execution_count": null,
   "metadata": {},
   "outputs": [],
   "source": []
  }
 ],
 "metadata": {
  "kernelspec": {
   "display_name": "Python 3",
   "language": "python",
   "name": "python3"
  },
  "language_info": {
   "codemirror_mode": {
    "name": "ipython",
    "version": 3
   },
   "file_extension": ".py",
   "mimetype": "text/x-python",
   "name": "python",
   "nbconvert_exporter": "python",
   "pygments_lexer": "ipython3",
   "version": "3.13.2"
  }
 },
 "nbformat": 4,
 "nbformat_minor": 2
}
