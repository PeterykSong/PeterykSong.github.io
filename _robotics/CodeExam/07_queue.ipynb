{
 "cells": [
  {
   "cell_type": "markdown",
   "id": "9373ef94",
   "metadata": {},
   "source": [
    "# 큐. 큐큐큐큐큐.\n"
   ]
  },
  {
   "cell_type": "markdown",
   "id": "098a9cd7",
   "metadata": {},
   "source": [
    "Queue 의 구성요소도 Stack 과 동일하지만, 넣고 나오는 데이터의 순서가 다르다. \n",
    "다만 Stack에서 가장 최상위 데이터를 뽑아낼때 stack[-1]을 사용했다면, \n",
    "Queue 에선 front 와 rear를 상태값으로 쓴다는게 좀 다르다. \n",
    "설명은 여전히 어설프다. \n",
    "\n",
    "- push\n",
    "- pop\n",
    "- isEmpty\n",
    "- isFull\n",
    "\n",
    "그러면 파이썬에서 어떻게 다르게 구현되는지 보자. "
   ]
  },
  {
   "cell_type": "code",
   "execution_count": 2,
   "id": "711d6469",
   "metadata": {},
   "outputs": [
    {
     "name": "stdout",
     "output_type": "stream",
     "text": [
      "[1, 2, 3]\n",
      "1\n",
      "2\n"
     ]
    }
   ],
   "source": [
    "queue = []\n",
    "\n",
    "#큐에 데이터 추가\n",
    "queue.append(1)\n",
    "queue.append(2)\n",
    "queue.append(3)\n",
    "\n",
    "print(queue)\n",
    "\n",
    "#큐 맨 앞에서 데이터 제거\n",
    "first_item = queue.pop(0)\n",
    "print(first_item)\n",
    "\n",
    "queue.append(4)\n",
    "queue.append(5)\n",
    "\n",
    "first_item = queue.pop(0)\n",
    "print(first_item)\n"
   ]
  },
  {
   "cell_type": "code",
   "execution_count": 6,
   "id": "06f55817",
   "metadata": {},
   "outputs": [
    {
     "name": "stdout",
     "output_type": "stream",
     "text": [
      "1\n",
      "3\n",
      "deque([2])\n"
     ]
    }
   ],
   "source": [
    "#double Queeu , Deque\n",
    "\n",
    "from collections import deque\n",
    "queue = deque()\n",
    "queue.append(1)\n",
    "queue.append(2)\n",
    "queue.append(3)\n",
    "\n",
    "first_item = queue.popleft()\n",
    "print(first_item)\n",
    "\n",
    "last_item = queue.pop()\n",
    "print(last_item)\n",
    "\n",
    "print(queue)"
   ]
  },
  {
   "cell_type": "markdown",
   "id": "5d2458a4",
   "metadata": {},
   "source": [
    "## 요세푸스 문제. \n",
    "N 명의 사람이 서있다. 각 사람은 1부터 N까지 번호표를 가지고 있으며, 임의의 숫자 K가 주어졌을때 다음과 같이 사람을 없앤다.  \n",
    "\n",
    " - 1번 번호표를 가진 사람 기준으로 K번째 사람을 없앤다. \n",
    " - 없앤사람 다음사람을 기준으로 바꾸고 다시 k번째 사람을 없앤다. \n",
    "\n",
    " N과 K가 주워졌을때 남아있는 사람의 번호를 구하라. \n",
    "\n",
    " 입출력 예 \n",
    "\n",
    " N : 5  \n",
    " K  : 2  \n",
    " return 3\n",
    "\n",
    " "
   ]
  },
  {
   "cell_type": "code",
   "execution_count": 21,
   "id": "962f38c2",
   "metadata": {},
   "outputs": [
    {
     "name": "stdout",
     "output_type": "stream",
     "text": [
      "deque([3, 4, 5, 1])\n",
      "deque([5, 1, 3])\n",
      "deque([3, 5])\n",
      "deque([3])\n"
     ]
    },
    {
     "data": {
      "text/plain": [
       "3"
      ]
     },
     "execution_count": 21,
     "metadata": {},
     "output_type": "execute_result"
    }
   ],
   "source": [
    "from collections import deque\n",
    "\n",
    "# input \n",
    "N = 5\n",
    "K = 2\n",
    "\n",
    "def solution(N,K):\n",
    "    #우선 N 숫자만큼 큐에 넣고, \n",
    "    queue = deque()\n",
    "\n",
    "    for i in range(N):\n",
    "        queue.append(i+1)\n",
    "\n",
    "    alive_queue = deque()\n",
    "\n",
    "    while len(queue)>1:\n",
    "        for j in range(N):\n",
    "            if j == K-1 :\n",
    "                queue.popleft()\n",
    "                print(queue)\n",
    "                break\n",
    "            else:\n",
    "                alive_queue.append(queue.popleft())\n",
    "                queue.append(alive_queue.popleft())\n",
    "                \n",
    "    \n",
    "    return queue.popleft()\n",
    "\n",
    "\n",
    "solution(N,K)"
   ]
  },
  {
   "cell_type": "markdown",
   "id": "6fa68a51",
   "metadata": {},
   "source": [
    "## Function 업데이트\n",
    "\n",
    " - 기능구현은 앞기능이 구현되어야 뒤기능이 같이 릴리즈 될 수 있다. \n",
    " - progresses 와 speeds 가 배열로 주어질때, 각 릴리즈별 구현 가능한 기능을 구하라. \n",
    "\n",
    " progresses |  speeds |  return \n",
    " -----------| --------| ---------\n",
    " [93,30,55] | [1,30,5]| [2,1]\n",
    " [95,90,99,99,80,99]|[1,1,1,1,1,1]|[1,3,2]"
   ]
  },
  {
   "cell_type": "code",
   "execution_count": 58,
   "id": "10dcd0e9",
   "metadata": {},
   "outputs": [
    {
     "name": "stdout",
     "output_type": "stream",
     "text": [
      "[1, 3, 2]\n"
     ]
    }
   ],
   "source": [
    "#input\n",
    "progresses = [95,90,99,99,80,99]\n",
    "speeds = [1,1,1,1,1,1]\n",
    "\n",
    "#process\n",
    "from collections import deque\n",
    "\n",
    "def solution(progresses, speeds):\n",
    "    task = deque()\n",
    "    done_task = 0\n",
    "    release = []\n",
    "    # 일단 큐를 정의한다. \n",
    "    for i in range(len(progresses)):\n",
    "        task.append(progresses[i])\n",
    "\n",
    "    #큐에 있는 task 가 모두 없어질때가지\n",
    "    while task:\n",
    "     \n",
    "        done_task = 0\n",
    "        #우선 task 큐에 프로그래스를 더한 다음. \n",
    "            #만약 큐의 front 가 100이상이면 \n",
    "        for i in range(len(task)):\n",
    "             task.append(task.popleft()+speeds[i])   \n",
    "        \n",
    "\n",
    "        for j in range(len(task)):           \n",
    "            if task and  task[0] >= 100:\n",
    "                task.popleft()\n",
    "                done_task += 1\n",
    "            else : \n",
    "                break\n",
    "    \n",
    "        \n",
    "        if done_task > 0 :\n",
    "             release.append(done_task)\n",
    "             done_task = 0\n",
    "    return release\n",
    "\n",
    "\n",
    "\n",
    "\n",
    "print(solution(progresses,speeds))"
   ]
  },
  {
   "cell_type": "code",
   "execution_count": null,
   "id": "d2b5ff8e",
   "metadata": {},
   "outputs": [],
   "source": []
  }
 ],
 "metadata": {
  "kernelspec": {
   "display_name": "Python 3",
   "language": "python",
   "name": "python3"
  },
  "language_info": {
   "codemirror_mode": {
    "name": "ipython",
    "version": 3
   },
   "file_extension": ".py",
   "mimetype": "text/x-python",
   "name": "python",
   "nbconvert_exporter": "python",
   "pygments_lexer": "ipython3",
   "version": "3.10.12"
  }
 },
 "nbformat": 4,
 "nbformat_minor": 5
}
