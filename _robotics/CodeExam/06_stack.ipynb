{
 "cells": [
  {
   "cell_type": "markdown",
   "id": "15087c10",
   "metadata": {},
   "source": [
    "# Stack"
   ]
  },
  {
   "cell_type": "markdown",
   "id": "b481d250",
   "metadata": {},
   "source": [
    "## Stack 을 구현해보자. (정해진 자료형이 아니었던 것이다.)\n",
    "\n",
    "Stack의 구성요소는 다음과 같다. \n",
    " - push : 데이터를 넣는다. \n",
    " - pop : 데이터를 빼낸다. \n",
    " - isEmpty\n",
    " - isFull\n",
    " - top : 가장 위의 데이터\n",
    "\n"
   ]
  },
  {
   "cell_type": "code",
   "execution_count": null,
   "id": "043630c0",
   "metadata": {},
   "outputs": [],
   "source": [
    "stack = []\n",
    "max_size = 10\n",
    "\n",
    "def isFull(stack):\n",
    "    #스택이 가득 찼는지 확인하는 함수\n",
    "    return len(stack) == max_size\n",
    "\n",
    "def isEmpty(stack):\n",
    "    #스택이 비어있는지 확인하는 함수\n",
    "    return len(stack) == 0\n",
    "\n",
    "def push(stack, item):\n",
    "    #스택에 아이템을 추가하는 함수\n",
    "    if isFull(stack):\n",
    "        print(\"스택이 가득 찼습니다. 아이템을 추가할 수 없습니다.\")\n",
    "    else:\n",
    "        stack.append(item)\n",
    "        print(f\"{item}이(가) 스택에 추가되었습니다.\")\n",
    "\n",
    "def pop(stack):\n",
    "    #스택에서 아이템을 제거하는 함수\n",
    "    if isEmpty(stack):\n",
    "        print(\"스택이 비어있습니다. 아이템을 제거할 수 없습니다.\")\n",
    "        return None\n",
    "    else:\n",
    "        item = stack.pop()\n",
    "        print(f\"{item}이(가) 스택에서 제거되었습니다.\")\n",
    "        return item\n",
    "    \n",
    "\n",
    "def peek(stack):\n",
    "    #스택의 가장 위에 있는 아이템을 반환하는 함수\n",
    "    if isEmpty(stack):\n",
    "        print(\"스택이 비어있습니다. 아이템을 확인할 수 없습니다.\")\n",
    "        return None\n",
    "    else:\n",
    "        item = stack[-1]\n",
    "        print(f\"스택의 가장 위 아이템은 {item}입니다.\")\n",
    "        return item\n",
    "\n",
    "def display(stack):\n",
    "    #스택의 현재 상태를 출력하는 함수\n",
    "    if isEmpty(stack):\n",
    "        print(\"스택이 비어있습니다.\")\n",
    "    else:\n",
    "        print(\"현재 스택:\", stack)  \n",
    "\n",
    "# Example usage\n"
   ]
  },
  {
   "cell_type": "code",
   "execution_count": 17,
   "id": "64917302",
   "metadata": {},
   "outputs": [
    {
     "name": "stdout",
     "output_type": "stream",
     "text": [
      "3\n",
      "2\n",
      "1\n"
     ]
    }
   ],
   "source": [
    "stack = []\n",
    "stack.append(1)\n",
    "stack.append(2)\n",
    "stack.append(3)\n",
    "\n",
    "top_element = stack.pop()\n",
    "print(top_element)\n",
    "nex_element = stack.pop()\n",
    "print(nex_element)\n",
    "stack_size = len(stack)\n",
    "print(stack_size)\n"
   ]
  },
  {
   "cell_type": "markdown",
   "id": "60edefc7",
   "metadata": {},
   "source": [
    "## 몸풀기 문제\n",
    "  소괄호 (와 )로 구성된 문자가 주워집니다. 이때 괄호의 작이 맞는지 판별하는 함수를 구현하라. \n",
    "\n",
    "  입력 예\n",
    "\n",
    "  s  | 변환값\n",
    "  ---| -----\n",
    "  (())()| true\n",
    "  ((())()|false\n"
   ]
  },
  {
   "cell_type": "code",
   "execution_count": null,
   "id": "d8e42fb7",
   "metadata": {},
   "outputs": [
    {
     "name": "stdout",
     "output_type": "stream",
     "text": [
      "True\n"
     ]
    }
   ],
   "source": [
    "#input \n",
    "s = '(())()'\n",
    "s_stack = []\n",
    "result =''\n",
    "\n",
    "def solution(s):\n",
    "    stack = []\n",
    "    for c in s:\n",
    "        print(c)\n",
    "        if c =='(':\n",
    "            stack.append(c)\n",
    "        elif c == \")\":\n",
    "            if not stack:\n",
    "                return False\n",
    "            \n",
    "            else :\n",
    "                stack.pop()\n",
    "    if stack :\n",
    "        return False\n",
    "    else :\n",
    "        return True\n",
    "\n",
    "\n",
    "print(solution(s))"
   ]
  },
  {
   "cell_type": "markdown",
   "id": "8491e148",
   "metadata": {},
   "source": [
    "### 10진수를 2진수로 변환하기.\n",
    "\n",
    " 하긴.. 진법 변환할때 stack이 편하긴 하겠다. \n",
    "\n",
    "10진수 decimal을 입력받아 2진수로 변환하여 이걸 문자열로 반환하는 solution() 을 작성해보자. "
   ]
  },
  {
   "cell_type": "code",
   "execution_count": null,
   "id": "ac49ab9e",
   "metadata": {},
   "outputs": [
    {
     "name": "stdout",
     "output_type": "stream",
     "text": [
      "[0]\n",
      "[0, 0]\n",
      "[0, 0, 0]\n",
      "[0, 0, 0, 1]\n",
      "1000\n"
     ]
    }
   ],
   "source": [
    "#input\n",
    "\n",
    "decimal = 8\n",
    "\n",
    "\n",
    "#process\n",
    "\n",
    "def solution(decimal):\n",
    "    bin_stack = []\n",
    "\n",
    "    # decimal을 2로 나누어 몫이 0일때까지 반복하며 그 나머지를 stack에 저장하면 된다. 맞지?\n",
    "    denominator =1\n",
    "    next_decimal = decimal\n",
    "    while(denominator):\n",
    "        remain = next_decimal % 2\n",
    "        next_decimal = int(next_decimal/2)\n",
    "        denominator = next_decimal\n",
    "        bin_stack.append(remain)\n",
    "        print(bin_stack)\n",
    "\n",
    "    binary = \"\"\n",
    "    # while bin_stack:\n",
    "    #     binary += str(bin_stack.pop())\n",
    "    \n",
    "    binary += ''.join(str(x) for x in reversed(bin_stack))  ## join을 사용하는 방법\n",
    "\n",
    "\n",
    "    return binary\n",
    "\n",
    "print(solution(decimal))\n",
    "\n"
   ]
  },
  {
   "cell_type": "markdown",
   "id": "83a34c38",
   "metadata": {},
   "source": [
    "## 괄호 회전하기. \n",
    "올바른 문자열이 될때까지 문자열을 회전시켜라. 이때 올바른 문자열이 되는 가짓수를 구하라."
   ]
  },
  {
   "cell_type": "code",
   "execution_count": 53,
   "id": "561e79fc",
   "metadata": {},
   "outputs": [
    {
     "name": "stdout",
     "output_type": "stream",
     "text": [
      "shift no. 0\n",
      "0, 0,(\n",
      "['(']\n",
      "0, 1,)\n",
      "0, 2,{\n",
      "['{']\n",
      "0, 3,}\n",
      "0, 4,[\n",
      "['[']\n",
      "0, 5,]\n",
      "answer is 1\n",
      "shift no. 1\n",
      "1, 0,)\n",
      "shift no. 2\n",
      "2, 0,{\n",
      "['{']\n",
      "2, 1,}\n",
      "2, 2,[\n",
      "['[']\n",
      "2, 3,]\n",
      "2, 4,(\n",
      "['(']\n",
      "2, 5,)\n",
      "answer is 2\n",
      "shift no. 3\n",
      "3, 0,}\n",
      "shift no. 4\n",
      "4, 0,[\n",
      "['[']\n",
      "4, 1,]\n",
      "4, 2,(\n",
      "['(']\n",
      "4, 3,)\n",
      "4, 4,{\n",
      "['{']\n",
      "4, 5,}\n",
      "answer is 3\n",
      "shift no. 5\n",
      "5, 0,]\n",
      "3\n"
     ]
    }
   ],
   "source": [
    "def solution(s):\n",
    "    answer = 0\n",
    "    n  = len(s)\n",
    "    for i in range(n):\n",
    "        stack =  []\n",
    "        print(f\"shift no. {i}\")\n",
    "        for j in range(n):\n",
    "            #괄호의 모든 문자열을 회전시키면서 참조한다. (???)\n",
    "            c = s[(i+j)% n]  # 이 부분이 재미있네. 이렇게 돌리는거구만. \n",
    "            print(f\"{i}, {j},{c}\")\n",
    "            if c == \"(\" or c == \"{\" or c == \"[\":\n",
    "                stack.append(c)\n",
    "                print(f\"{stack}\")\n",
    "            else :\n",
    "                if not stack:\n",
    "                    break\n",
    "            \n",
    "                if c == \")\" and stack[-1] ==\"(\" :\n",
    "                    stack.pop()\n",
    "                elif c == \"}\" and stack[-1] ==\"{\" :\n",
    "                    stack.pop()\n",
    "                elif  c == \"]\" and stack[-1] ==\"[\": \n",
    "                    stack.pop()\n",
    "                else :\n",
    "                    break\n",
    "        else :   #for문이 break에 끝나지 않고 끝까지 올 경우\n",
    "            if not stack:\n",
    "                answer +=1\n",
    "                print(f\"answer is {answer}\")\n",
    "    \n",
    "    return answer   \n",
    "                \n",
    "\n",
    "\n",
    "print(solution('(){}[]'))\n",
    "\n",
    "\n",
    "    "
   ]
  },
  {
   "cell_type": "markdown",
   "id": "ba1602d2",
   "metadata": {},
   "source": [
    "## 짝지어 제거하기. 1차원 테트리스\n",
    "\n",
    "알파벳 소문자로 구성된 문자열에서, 2개씩 붙어있는 문자를 소거한 뒤, 쪼개진 두 문자열을 붙였을때, 모두 소거가 가능한지 확인하는 soltion()을 작성하시오. \n",
    "\n",
    "입력 baabaa  \n",
    "출력 1  \n",
    "입력 dcdc  \n",
    "출력 0"
   ]
  },
  {
   "cell_type": "code",
   "execution_count": 54,
   "id": "7cf01475",
   "metadata": {},
   "outputs": [
    {
     "name": "stdout",
     "output_type": "stream",
     "text": [
      "1\n"
     ]
    }
   ],
   "source": [
    "#input\n",
    "\n",
    "s = \"baabaa\"\n",
    "\n",
    "def solution(s):\n",
    "    stack =[]\n",
    "    for c in s:\n",
    "        if stack:\n",
    "            if stack[-1] == c :\n",
    "                stack.pop()\n",
    "        else :\n",
    "            stack.append(c)\n",
    "    \n",
    "    return int(not stack)\n",
    "\n",
    "print(solution(s))\n"
   ]
  },
  {
   "cell_type": "code",
   "execution_count": null,
   "id": "da58e906",
   "metadata": {},
   "outputs": [],
   "source": []
  }
 ],
 "metadata": {
  "kernelspec": {
   "display_name": "Python 3",
   "language": "python",
   "name": "python3"
  },
  "language_info": {
   "codemirror_mode": {
    "name": "ipython",
    "version": 3
   },
   "file_extension": ".py",
   "mimetype": "text/x-python",
   "name": "python",
   "nbconvert_exporter": "python",
   "pygments_lexer": "ipython3",
   "version": "3.10.12"
  }
 },
 "nbformat": 4,
 "nbformat_minor": 5
}
