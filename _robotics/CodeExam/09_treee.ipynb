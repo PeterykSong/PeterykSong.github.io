{
 "cells": [
  {
   "cell_type": "markdown",
   "id": "d9b458ca",
   "metadata": {},
   "source": [
    "# 트리. 트리릴리 트랄랄랄라 \n",
    "\n",
    "### 몸풀기, 트리 순회\n",
    "\n",
    "이진트리를 표현한 리스트를 nodes 인자로 받습니다. \n",
    "\n",
    "전위 순회, 후휘 순회, 중위 순회를 반환하는 solution을 구하시오\n",
    "\n",
    "### 입력예시 \n",
    " - nodes = [1,2,3,4,5,6,7]\n",
    " - return = [\"1 2 3 4 5 6 7, 4 2 5 1 6 3 ,7 4 5 2 6 7 3 1]\n"
   ]
  },
  {
   "cell_type": "markdown",
   "id": "d9df0eff",
   "metadata": {},
   "source": []
  },
  {
   "cell_type": "code",
   "execution_count": 20,
   "id": "08632b4a",
   "metadata": {},
   "outputs": [
    {
     "data": {
      "text/plain": [
       "['1 2 4 5 3 6 7', '4 2 5 1 6 3 7', '4 5 2 6 7 3 1']"
      ]
     },
     "execution_count": 20,
     "metadata": {},
     "output_type": "execute_result"
    }
   ],
   "source": [
    "#input \n",
    "nodes = [1,2,3,4,5,6,7]\n",
    "\n",
    "def PreOrder(nodes, idx):\n",
    "    #idx가 노드 리스트보다 작을때,\n",
    "    if idx < len(nodes):\n",
    "        ret = str(nodes[idx])+\" \"\n",
    "        ret += PreOrder(nodes,idx*2+1)\n",
    "        ret += PreOrder(nodes,idx*2+2)\n",
    "        return ret\n",
    "    else:\n",
    "        return \"\"\n",
    "\n",
    "\n",
    "def InOrder(nodes, idx):\n",
    "        #idx가 노드 리스트보다 작을때,\n",
    "    if idx < len(nodes):\n",
    "        ret = InOrder(nodes,idx*2+1)\n",
    "        ret += str(nodes[idx])+\" \"\n",
    "        ret += InOrder(nodes,idx*2+2)\n",
    "        return ret\n",
    "    else:\n",
    "        return \"\"\n",
    "\n",
    "    \n",
    "\n",
    "def PostOrder(nodes, idx):\n",
    "    if idx < len(nodes):\n",
    "        ret = PostOrder(nodes,idx*2+1)\n",
    "        ret += PostOrder(nodes,idx*2+2)\n",
    "        ret += str(nodes[idx])+\" \"\n",
    "        return ret\n",
    "    else:\n",
    "        return \"\"\n",
    "\n",
    "\n",
    "def solution(nodes):\n",
    "\n",
    "    return [PreOrder(nodes,0)[:-1]\n",
    "            ,InOrder(nodes,0)[:-1]\n",
    "            ,PostOrder(nodes,0)[:-1],\n",
    "    ]\n",
    "\n",
    "\n",
    "solution(nodes)\n"
   ]
  },
  {
   "cell_type": "markdown",
   "id": "db5c6547",
   "metadata": {},
   "source": [
    "트리구조는 차라리 클래스로 선언하고 노가다를 뛰는게 더 나을지도 모르겠다. "
   ]
  },
  {
   "cell_type": "code",
   "execution_count": 21,
   "id": "a9696b08",
   "metadata": {},
   "outputs": [],
   "source": [
    "class Node:\n",
    "    def __init__(self, value):\n",
    "        self.value = value\n",
    "        self.children = []  # or left/right for binary tree\n",
    "\n",
    "# 사용 예시\n",
    "root = Node(1)\n",
    "child1 = Node(2)\n",
    "child2 = Node(3)\n",
    "root.children.append(child1)\n",
    "root.children.append(child2)"
   ]
  },
  {
   "cell_type": "code",
   "execution_count": 22,
   "id": "92e84be5",
   "metadata": {},
   "outputs": [
    {
     "name": "stdout",
     "output_type": "stream",
     "text": [
      "<__main__.Node object at 0x7a00c539ac80>\n"
     ]
    }
   ],
   "source": [
    "print(root)"
   ]
  },
  {
   "cell_type": "code",
   "execution_count": 23,
   "id": "4858488b",
   "metadata": {},
   "outputs": [
    {
     "name": "stdout",
     "output_type": "stream",
     "text": [
      "1\n"
     ]
    }
   ],
   "source": [
    "print(root.value)"
   ]
  },
  {
   "cell_type": "code",
   "execution_count": null,
   "id": "e0647600",
   "metadata": {},
   "outputs": [],
   "source": []
  }
 ],
 "metadata": {
  "kernelspec": {
   "display_name": "Python 3",
   "language": "python",
   "name": "python3"
  },
  "language_info": {
   "codemirror_mode": {
    "name": "ipython",
    "version": 3
   },
   "file_extension": ".py",
   "mimetype": "text/x-python",
   "name": "python",
   "nbconvert_exporter": "python",
   "pygments_lexer": "ipython3",
   "version": "3.10.12"
  }
 },
 "nbformat": 4,
 "nbformat_minor": 5
}
