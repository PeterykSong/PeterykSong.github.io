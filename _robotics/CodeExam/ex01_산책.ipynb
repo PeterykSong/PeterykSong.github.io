{
 "cells": [
  {
   "cell_type": "markdown",
   "metadata": {},
   "source": []
  },
  {
   "cell_type": "markdown",
   "metadata": {},
   "source": [
    "# 산책\n",
    "\n",
    "건강을 위해 산책을 하기로 했다. \n",
    "산책로는 좁아서 다른사람을 추월할 수 없기때문에 그룹이 만들어진다. \n",
    "\n",
    "몇개의 그룹이 만들어지는가. \n",
    "\n",
    "add. \n",
    " - 모든 직원이 동시에 출발하고 출발위치는 직원마다 다르며, 산책속도는 직원별로 같거나 다를 수 있다. \n",
    " - 산책은 총 T분동안 진행된다. \n",
    "\n",
    "\n",
    "값의 범위\n",
    " - 직원수는 100,000명 이하. (N^2 는 안되겠네.)\n",
    " - 산책시간 T는 1이상 1000,000,000분 이하. \n",
    " - 직원 i의 출발 위치 Pi 는 0 이상 1000,000,000이하\n",
    " - 직원 i번의 산책속도 Si는 0이상, 1000,000,000이하\n",
    "\n",
    " \n"
   ]
  },
  {
   "cell_type": "code",
   "execution_count": 28,
   "metadata": {},
   "outputs": [
    {
     "data": {
      "text/plain": [
       "3"
      ]
     },
     "execution_count": 28,
     "metadata": {},
     "output_type": "execute_result"
    }
   ],
   "source": [
    "#input \n",
    "\n",
    "T_walktime = 3\n",
    "People_Position = [0,1,2,3,6]\n",
    "Walk_Speed = [1,2,3,2,1]\n",
    "\n",
    "from collections import deque\n",
    "\n",
    "def solution(T_walktime, People_Position, Walk_Speed):\n",
    "    \n",
    "    #deQueue로 저장하자. 뒤에서 빼서 앞으로 저장하면서 T번 iteration을 거친 후 나온 큐를 sorted 로 정리하여 len 을 retur하자. \n",
    "\n",
    "    # Queue 초기화\n",
    "    dqPosition = deque(People_Position)\n",
    "    dqSpeed = deque(Walk_Speed)\n",
    "    \n",
    "    for i in range(T_walktime):        \n",
    "        for j in range(len(dqPosition)):\n",
    "            uSpeed = dqSpeed.pop() #가장 우측에서 속도 데이터 로드\n",
    "            uPosition = dqPosition.pop() + uSpeed #가장 우측에서 위치 데이터 로드 + 속도 업데이트\n",
    "            \n",
    "        \n",
    "            if j > 0 and uPosition > dqPosition[0]: #만약 위치값이 직전에 업데이트 한 값을 초과한다면, 초기값 문제 해결\n",
    "                uPosition = dqPosition[0]  #추월할 수 없으므로 직전값으로 포화시킨다. \n",
    "               \n",
    "            dqPosition.appendleft(uPosition)\n",
    "            dqSpeed.appendleft(uSpeed)\n",
    "            \n",
    "    answer = list(dqPosition)\n",
    "    return len(set(answer)) \n",
    "        \n",
    "solution(N_PeopleCount,T_walktime,People_Position,Walk_Speed)\n"
   ]
  },
  {
   "cell_type": "code",
   "execution_count": null,
   "metadata": {},
   "outputs": [],
   "source": []
  }
 ],
 "metadata": {
  "kernelspec": {
   "display_name": "Python 3",
   "language": "python",
   "name": "python3"
  },
  "language_info": {
   "codemirror_mode": {
    "name": "ipython",
    "version": 3
   },
   "file_extension": ".py",
   "mimetype": "text/x-python",
   "name": "python",
   "nbconvert_exporter": "python",
   "pygments_lexer": "ipython3",
   "version": "3.13.2"
  }
 },
 "nbformat": 4,
 "nbformat_minor": 2
}
