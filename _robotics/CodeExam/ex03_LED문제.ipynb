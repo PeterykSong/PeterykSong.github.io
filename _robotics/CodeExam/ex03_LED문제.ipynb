{
 "cells": [
  {
   "cell_type": "markdown",
   "metadata": {},
   "source": [
    "# LED 문제\n",
    "한번 뒤집어서 가장 긴 패턴을 만들라.   \n",
    " \n",
    "- LED가 일렬로 늘어져있는데, On 또는 OFF 되어있다.   \n",
    "- 가장 긴 On/OFF 반복 패턴을 만들면 우승이다.   \n",
    "- 초기상태는 랜덤으로 제시되며, 한번만 원하는 구간을 반전시킬 수 있다.   \n",
    "- 구할 수 있는 가장 긴 패턴을 구하라\n",
    "\n",
    "## 값의 범위\n",
    " - LED 수 N은 2 이상 100,000이하  \n",
    " - i 번째 LED의 상태 Si 는 0 또는 1이다.  \n",
    "\n",
    "## 입력 예시\n",
    " - 입력 : [1 1 0 0 1 0 1 1 1 0]  \n",
    " - 출력 : 7"
   ]
  },
  {
   "cell_type": "code",
   "execution_count": 16,
   "metadata": {},
   "outputs": [
    {
     "name": "stdout",
     "output_type": "stream",
     "text": [
      "11\n"
     ]
    }
   ],
   "source": [
    "#input \n",
    "Si = [1,1,0,0,1,0,1,1,1,0,1,1,0,1,0,1,0,1,1,1,0]\n",
    "\n",
    "#process \n",
    "def solution(Si):\n",
    "    N = len(Si)\n",
    "    nPattern = []\n",
    "    nPatternLength = []\n",
    "    nPattern.append(Si[0])\n",
    "    for i in range(1,N):\n",
    "        if Si[i] != Si[i-1]:\n",
    "            nPattern.append(Si[i])\n",
    "            \n",
    "        else :\n",
    "            nPatternLength.append(len(nPattern))\n",
    "            nPattern.clear()\n",
    "            nPattern.append(Si[i])\n",
    "    nWindow = 0\n",
    "    # Sliding window\n",
    "    # 초기 3개값만 먼저 저장한다음 window를 이동시킨다.  \n",
    "    for i in range(3):\n",
    "        nWindow += nPatternLength[i]\n",
    "        \n",
    "    nMax = nWindow    \n",
    "    \n",
    "    for i in range(3,len(nPatternLength)):\n",
    "        nWindow = nWindow + nPatternLength[i]-nPatternLength[i-3]\n",
    "        if nMax > nWindow:\n",
    "            continue\n",
    "        else :\n",
    "            nMax = nWindow\n",
    "    return nMax\n",
    "    \n",
    "print(solution(Si))\n",
    "    \n",
    "        "
   ]
  },
  {
   "cell_type": "code",
   "execution_count": null,
   "metadata": {},
   "outputs": [],
   "source": []
  }
 ],
 "metadata": {
  "kernelspec": {
   "display_name": "Python 3",
   "language": "python",
   "name": "python3"
  },
  "language_info": {
   "codemirror_mode": {
    "name": "ipython",
    "version": 3
   },
   "file_extension": ".py",
   "mimetype": "text/x-python",
   "name": "python",
   "nbconvert_exporter": "python",
   "pygments_lexer": "ipython3",
   "version": "3.13.2"
  }
 },
 "nbformat": 4,
 "nbformat_minor": 2
}
